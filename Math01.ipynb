{
  "nbformat": 4,
  "nbformat_minor": 0,
  "metadata": {
    "colab": {
      "provenance": [],
      "authorship_tag": "ABX9TyPkIMJVIJKAn9qdcukiQju2",
      "include_colab_link": true
    },
    "kernelspec": {
      "name": "python3",
      "display_name": "Python 3"
    },
    "language_info": {
      "name": "python"
    }
  },
  "cells": [
    {
      "cell_type": "markdown",
      "metadata": {
        "id": "view-in-github",
        "colab_type": "text"
      },
      "source": [
        "<a href=\"https://colab.research.google.com/github/piusAI/Math-For-AI/blob/main/Math01.ipynb\" target=\"_parent\"><img src=\"https://colab.research.google.com/assets/colab-badge.svg\" alt=\"Open In Colab\"/></a>"
      ]
    },
    {
      "cell_type": "markdown",
      "source": [
        "###Sigmoid Function"
      ],
      "metadata": {
        "id": "tQsuh8tRjn-U"
      }
    },
    {
      "cell_type": "markdown",
      "source": [
        "![image.png](data:image/png;base64,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)"
      ],
      "metadata": {
        "id": "rwyXf_URjktU"
      }
    },
    {
      "cell_type": "code",
      "source": [],
      "metadata": {
        "id": "uQ6hDTyJjlEa"
      },
      "execution_count": null,
      "outputs": []
    }
  ]
}